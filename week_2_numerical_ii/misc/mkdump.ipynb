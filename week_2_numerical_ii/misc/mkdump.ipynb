{
 "cells": [
  {
   "cell_type": "code",
   "execution_count": 1,
   "metadata": {},
   "outputs": [],
   "source": [
    "import numpy as np\n"
   ]
  },
  {
   "cell_type": "code",
   "execution_count": 5,
   "metadata": {},
   "outputs": [
    {
     "name": "stdout",
     "output_type": "stream",
     "text": [
      "[[1.9980000e+03           nan 1.7891160e+00 5.5893523e-01]\n",
      " [1.9981765e+03           nan 1.8301889e+00 5.4639167e-01]\n",
      " [1.9983529e+03           nan 1.9042528e+00 5.2514035e-01]\n",
      " [1.9985294e+03           nan 1.9708459e+00 5.0739634e-01]\n",
      " [1.9987059e+03           nan 1.9527526e+00 5.1209766e-01]\n",
      " [1.9988823e+03           nan 1.9870331e+00 5.0326288e-01]\n",
      " [1.9990588e+03           nan 2.0157211e+00 4.9610040e-01]\n",
      " [1.9992354e+03           nan 2.0301075e+00 4.9258476e-01]\n",
      " [1.9994117e+03           nan 2.0183258e+00 4.9546015e-01]\n",
      " [1.9995883e+03           nan 2.0660002e+00 4.8402706e-01]\n",
      " [1.9997646e+03           nan 1.9815191e+00 5.0466329e-01]\n",
      " [1.9999412e+03           nan 1.9642719e+00 5.0909448e-01]\n",
      " [2.0001177e+03           nan 1.9651172e+00 5.0887549e-01]\n",
      " [2.0002941e+03           nan 1.9393680e+00 5.1563191e-01]\n",
      " [2.0004706e+03           nan 1.9515935e+00 5.1240176e-01]\n",
      " [2.0006471e+03           nan 1.9421278e+00 5.1489919e-01]\n",
      " [2.0008235e+03           nan 2.0757365e+00 4.8175672e-01]\n",
      " [2.0010000e+03           nan 2.0989766e+00 4.7642264e-01]]\n"
     ]
    }
   ],
   "source": [
    "np.random.seed(2019)\n",
    "data = np.zeros((18, 4), dtype=np.float32)\n",
    "data[:,1] = np.nan\n",
    "data[:,0] = np.linspace(1998, 2001, 18)\n",
    "\n",
    "data[:,2] = np.cumsum(np.random.normal(0, 0.05, 18))+1.8\n",
    "data[:,3] = 1.0/data[:,2]\n",
    "print(data)\n"
   ]
  },
  {
   "cell_type": "code",
   "execution_count": 114,
   "metadata": {},
   "outputs": [
    {
     "name": "stdout",
     "output_type": "stream",
     "text": [
      "b'\\xff\\xbf\\xf9D\\xf5\\x17\\xa7\\xff\\xc2\\x01\\xe5?a\\x16\\x0f?\\xa7\\xc5\\xf9D\\nl\\x90\\x7f\\x9fC\\xea?S\\xe0\\x0b?I\\xcb\\xf9D\\xcf\\xf7\\xbe\\x7f\\x8e\\xbe\\xf3?\\x98o\\x06?\\xf1\\xd0\\xf9D\\xf8\\xe1\\x99\\xff\\xabD\\xfc?\\xba\\xe4\\x01?\\x99\\xd6\\xf9D\\x81\\t\\x8f\\x7f\\xcc\\xf3\\xf9?\\xd6\\x18\\x03?:\\xdc\\xf9D\\xcbr\\x87\\xff\\x19W\\xfe?\\xd7\\xd5\\x00?\\xe4\\xe1\\xf9D]\\xea\\x8d\\xff\\x94\\x01\\x01@\\xdd\\x00\\xfe>\\x8a\\xe7\\xf9D\\xd2\\x8f\\xc7\\xffH\\xed\\x01@\\x114\\xfc>/\\xed\\xf9D)\\x1b\\x89\\x7f@,\\x01@\\xf5\\xac\\xfd>\\xd4\\xf2\\xf9D(S\\x91\\x7fY9\\x04@e\\xd2\\xf7>z\\xf8\\xf9D\\x95\\x82\\xf9\\xffm\\xa2\\xfd?\\x9d1\\x01?\\x1c\\xfe\\xf9D\\xcfq\\xf4\\xffCm\\xfb?\\x05T\\x02?\\xc5\\x03\\xfaD\\xb3\\x9d\\x92\\x7f\\xf7\\x88\\xfb?\\xa9E\\x02?g\\t\\xfaDDz\\xf4\\x7f4=\\xf8?u\\x00\\x04?\\x11\\x0f\\xfaD\\xc6:\\xd5\\x7f\\xd4\\xcd\\xf9?\\xc3,\\x03?\\xb6\\x14\\xfaDC\\xf7\\xc7\\x7f\\xa5\\x97\\xf8?n\\xd0\\x03?Z\\x1a\\xfaD\\xea\\xf8\\x81\\x7f\\xde\\xd8\\x04@\\xd2\\xa8\\xf6>\\x01 \\xfaD\\x07<\\x89\\x7f\\xa3U\\x06@\\xaa\\xed\\xf3>'\n",
      "float32\n"
     ]
    }
   ],
   "source": [
    "tol = 1e-7\n",
    "np.set_printoptions(precision=2, suppress=True)\n",
    "import random\n",
    "def mknan32():\n",
    "    sign = np.random.randint(0,2)\n",
    "    num = random.getrandbits(32)    \n",
    "    num = num | 0xff80_0000\n",
    "    num = num ^ (sign << 31)\n",
    "    x = np.array(num, dtype=np.uint32)\n",
    "    return np.frombuffer(x.tobytes(), dtype=np.float32, count=1, offset=0)[0]\n",
    "\n",
    "new_data = []\n",
    "for elt in data.ravel():\n",
    "    if np.isnan(elt):\n",
    "        new_elt = mknan32()\n",
    "    else:\n",
    "        new_elt = elt + np.random.normal(0, tol*elt)\n",
    "    new_data.append(new_elt)\n",
    "    \n",
    "new_data = np.array(new_data, dtype=np.float32).reshape(data.shape)\n",
    "\n",
    "\n",
    "\n",
    "print(new_data.dtype)"
   ]
  },
  {
   "cell_type": "code",
   "execution_count": 7,
   "metadata": {},
   "outputs": [],
   "source": [
    "header_len = 19\n",
    "footer_len = 70\n",
    "header = np.random.randint(0,255,size=header_len, dtype=np.uint8).tobytes()\n",
    "footer = np.random.randint(0,255,size=footer_len, dtype=np.uint8).tobytes()\n",
    "with open(\"../data/crash_bytes.dump\", \"wb\") as f:\n",
    "    f.write(header+data.tobytes()+footer)\n"
   ]
  },
  {
   "cell_type": "code",
   "execution_count": 115,
   "metadata": {},
   "outputs": [],
   "source": [
    "header_len = 19\n",
    "footer_len = 70\n",
    "header = np.random.randint(0,255,size=header_len, dtype=np.uint8).tobytes()\n",
    "footer = np.random.randint(0,255,size=footer_len, dtype=np.uint8).tobytes()\n",
    "with open(\"../data/crash_bytes_alternate.dump\", \"wb\") as f:\n",
    "    f.write(header+new_data.tobytes()+footer)"
   ]
  },
  {
   "cell_type": "code",
   "execution_count": 88,
   "metadata": {},
   "outputs": [],
   "source": [
    "from decimal import getcontext, Decimal\n",
    "getcontext().prec = 50\n",
    "def logistic(r, x, n):\n",
    "    xs = []\n",
    "    x1 = Decimal(x)\n",
    "    x2 = Decimal(x)\n",
    "    r = Decimal(r)\n",
    "    np.random.seed(2019)\n",
    "    \n",
    "    for i in range(n):\n",
    "        x1 = r * x1 * (1-x1)\n",
    "        x2 = r * x2 * (1-x2) + Decimal(np.random.normal(0,0.0001))\n",
    "        xs.append([float(x1),float(x2)])\n",
    "    return np.array(xs)\n",
    "\n",
    "r = logistic(3.7, 0.5, 5000)\n",
    "       "
   ]
  },
  {
   "cell_type": "code",
   "execution_count": 89,
   "metadata": {},
   "outputs": [
    {
     "name": "stderr",
     "output_type": "stream",
     "text": [
      "c:\\local\\anaconda3\\lib\\site-packages\\ipykernel_launcher.py:1: RuntimeWarning: invalid value encountered in double_scalars\n",
      "  \"\"\"Entry point for launching an IPython kernel.\n"
     ]
    },
    {
     "data": {
      "text/plain": [
       "nan"
      ]
     },
     "execution_count": 89,
     "metadata": {},
     "output_type": "execute_result"
    }
   ],
   "source": [
    "np.prod(r[:,0]) / np.prod(r[:,1])"
   ]
  },
  {
   "cell_type": "code",
   "execution_count": 90,
   "metadata": {},
   "outputs": [
    {
     "data": {
      "text/plain": [
       "665.175646635659"
      ]
     },
     "execution_count": 90,
     "metadata": {},
     "output_type": "execute_result"
    }
   ],
   "source": [
    "np.exp(np.sum(np.log(r[:,0]) - np.log(r[:,1])))"
   ]
  },
  {
   "cell_type": "code",
   "execution_count": 91,
   "metadata": {},
   "outputs": [
    {
     "data": {
      "text/plain": [
       "665.1756466355218"
      ]
     },
     "execution_count": 91,
     "metadata": {},
     "output_type": "execute_result"
    }
   ],
   "source": [
    "np.exp(np.sum(np.log(r[:,0])) - np.sum(np.log(r[:,1])))"
   ]
  },
  {
   "cell_type": "code",
   "execution_count": null,
   "metadata": {},
   "outputs": [],
   "source": []
  }
 ],
 "metadata": {
  "kernelspec": {
   "display_name": "Python 3",
   "language": "python",
   "name": "python3"
  },
  "language_info": {
   "codemirror_mode": {
    "name": "ipython",
    "version": 3
   },
   "file_extension": ".py",
   "mimetype": "text/x-python",
   "name": "python",
   "nbconvert_exporter": "python",
   "pygments_lexer": "ipython3",
   "version": "3.7.3"
  }
 },
 "nbformat": 4,
 "nbformat_minor": 2
}
