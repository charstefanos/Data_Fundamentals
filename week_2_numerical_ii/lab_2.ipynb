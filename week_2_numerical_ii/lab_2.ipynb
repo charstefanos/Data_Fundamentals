{
 "cells": [
  {
   "cell_type": "markdown",
   "metadata": {
    "nbgrader": {
     "grade": false,
     "grade_id": "cell-96ff555b80754366",
     "locked": true,
     "schema_version": 3,
     "solution": false
    }
   },
   "source": [
    "## Lab 2: **Assessed**\n",
    "# Numerical arrays and vectorized computation"
   ]
  },
  {
   "cell_type": "markdown",
   "metadata": {
    "nbgrader": {
     "grade": false,
     "grade_id": "cell-01c84fe8d49767fe",
     "locked": true,
     "schema_version": 3,
     "solution": false
    }
   },
   "source": [
    "\n",
    "### Notes\n",
    "It is recommended to keep the lecture notes open while doing this lab exercise.\n",
    "\n",
    "**This exercise is assessed**. Make sure you upload your solution by the deadline. See the notes at the bottom of this notebook for submission guidance.\n",
    "\n",
    "\n",
    "### References\n",
    "If you are stuck, the following resources are very helpful:\n",
    "\n",
    "\n",
    "* [NumPy cheatsheet](https://github.com/juliangaal/python-cheat-sheet/blob/master/NumPy/NumPy.md)\n",
    "* [NumPy API reference](https://docs.scipy.org/doc/numpy-1.13.0/reference/)\n",
    "* [NumPy user guide](https://docs.scipy.org/doc/numpy-1.13.0/user/basics.html)\n",
    "\n",
    "\n",
    "* [Python for Data Science cheatsheet](https://s3.amazonaws.com/assets.datacamp.com/blog_assets/PythonForDataScience.pdf)\n",
    "* [Another NumPy Cheatsheet](https://s3.amazonaws.com/assets.datacamp.com/blog_assets/Numpy_Python_Cheat_Sheet.pdf)\n"
   ]
  },
  {
   "cell_type": "markdown",
   "metadata": {
    "nbgrader": {
     "grade": false,
     "grade_id": "cell-8ede47f17b8fd075",
     "locked": true,
     "schema_version": 3,
     "solution": false
    }
   },
   "source": [
    "## Purpose of this lab\n",
    "This lab should help you:\n",
    "* understand floating point representations\n",
    "* understand how roundoff errors occur and how you can control them\n",
    "* work with higher rank tensors, selecting the attributes you want to work with\n",
    "* understand how to do simple operations in a vectorised manner\n",
    "\n",
    "Note: this lab requires solving puzzles which require that you understand the course material. Very little code is required to get the correct solutions.\n"
   ]
  },
  {
   "cell_type": "code",
   "execution_count": null,
   "metadata": {
    "ExecuteTime": {
     "end_time": "2020-09-28T13:04:21.942803Z",
     "start_time": "2020-09-28T13:04:21.939973Z"
    }
   },
   "outputs": [],
   "source": [
    "## custom utils\n",
    "## uncomment and run the line below if you get an error about jhwutils\n",
    "## then RESTART THE KERNEL (Kernel/Restart)\n",
    "\n",
    "#!pip --no-cache install --user -U https://github.com/johnhw/jhwutils/zipball/master   \n",
    "\n",
    "# comment it again before submitting!"
   ]
  },
  {
   "cell_type": "code",
   "execution_count": 4,
   "metadata": {
    "ExecuteTime": {
     "end_time": "2020-09-28T13:04:21.961347Z",
     "start_time": "2020-09-28T13:04:21.943780Z"
    },
    "nbgrader": {
     "grade": false,
     "grade_id": "cell-7d8b7c3700ac1bc7",
     "locked": true,
     "schema_version": 3,
     "solution": false
    }
   },
   "outputs": [
    {
     "name": "stdout",
     "output_type": "stream",
     "text": [
      "Everything imported OK\n"
     ]
    },
    {
     "name": "stderr",
     "output_type": "stream",
     "text": [
      "/home/unreal/.local/lib/python3.8/site-packages/IPython/kernel/__init__.py:12: ShimWarning: The `IPython.kernel` package has been deprecated since IPython 4.0.You should import from ipykernel or jupyter_client instead.\n",
      "  warn(\"The `IPython.kernel` package has been deprecated since IPython 4.0.\"\n"
     ]
    }
   ],
   "source": [
    "# Standard imports\n",
    "# Make sure you run this cell!\n",
    "# NumPy\n",
    "import numpy as np  \n",
    "np.set_printoptions(suppress=True)\n",
    "\n",
    "# Set up Matplotlib\n",
    "import matplotlib as mpl   \n",
    "import matplotlib.pyplot as plt\n",
    "%matplotlib inline\n",
    "plt.rc('figure', figsize=(8.0, 4.0), dpi=140)\n",
    "\n",
    "from jhwutils.checkarr import array_hash, check_hash\n",
    "from jhwutils.float_inspector import print_float_html\n",
    "import jhwutils.image_audio as ia\n",
    "import jhwutils.tick as tick\n",
    "\n",
    "import lzma, base64\n",
    "exec(lzma.decompress(base64.b64decode(b'/Td6WFoAAATm1rRGAgAhARYAAAB0L+Wj4AHWARFdAAUaCmNWCuiTCXe8bHWT/WeqghymfBRQKyklXJ3lgDWHk34myezvldkgSu3Adiur0vA+OkDfUwiMWzEclOxunCssCtgpVM94TwtylLQC9aX0APwnuNk2VBPkVpf3otXT04I1pElMWNdSgqgJ9/PqMJhdhfDr3Wrs/a/pRN/AOd+rZawioudIbGRTYZgWPHcqPLImmS2EO0Hbkc7kRAS3Nr9JkELrRMkejvVMnGgu+b1m4uXv6trDURkPrMO7HCVcO5FcMx1FURc+hNcKRmmBp1mCuW4iop6qRAMNnAur/spBmfuw+lbJkxOoIXMwrRuEXa6bnJz53WQnloXvzbWW5hqEtbPpSHPLPccxaiU5yPAKYAAAAADqkqJjsFbfFwABrQLXAwAA9LrSpbHEZ/sCAAAAAARZWg==')))\n",
    "\n",
    "print(\"Everything imported OK\")"
   ]
  },
  {
   "cell_type": "markdown",
   "metadata": {},
   "source": [
    "## Precision\n",
    "Want to change precsion of number printing in NumPy?\n",
    "\n",
    "* `np.set_printoptions(precision=30)` will show the numbers in full\n",
    "* `np.set_printoptions(precision=3)` will show three decimal places, etc.\n"
   ]
  },
  {
   "cell_type": "markdown",
   "metadata": {
    "nbgrader": {
     "grade": false,
     "grade_id": "cell-cd90398823b51d3c",
     "locked": true,
     "schema_version": 3,
     "solution": false
    }
   },
   "source": [
    "# 1. Financial misconduct"
   ]
  },
  {
   "cell_type": "markdown",
   "metadata": {
    "nbgrader": {
     "grade": false,
     "grade_id": "cell-cd1b63eb91f1612d",
     "locked": true,
     "schema_version": 3,
     "solution": false
    }
   },
   "source": [
    "You have been asked to verify the computation of some financial predictive models. These models produces a sequence of updates to the value of a product. The product updates are mainly of two types:\n",
    "* **large deposits**, representing inflows of new cash, often up into the billions of pounds\n",
    "* **small returns** from high-frequency trading activity\n",
    "\n",
    "The simulator produces **two** model outputs from two distinct models `a` and `b` at each time step, which provide very similar estimates of the value of these updates.\n",
    "\n",
    "You are asked to write code that will produce:\n",
    "\n",
    "* an estimate of the total value of a product over some series\n",
    "* the total difference between two different product models, both of which are very similar.\n",
    "\n",
    "You are given the existing code below, which is supposed to compute and return:\n",
    "\n",
    "* the sum of the `a` updates (i.e. total value of `a`)\n",
    "* the accumulated difference between the `a` and `b` products.\n",
    "\n",
    "However, the result is very inaccurate when tested. Modify this code to be more accurate. Do NOT use NumPy, or *any* other external module to improve your calculation. Use floating point, regardless of the fact that floating point is not appropriate for financial data.\n",
    "\n",
    "The errors should be less than 0.5 for the `a` sum and less than 1e-10 for the difference in predictions."
   ]
  },
  {
   "cell_type": "code",
   "execution_count": null,
   "metadata": {
    "ExecuteTime": {
     "end_time": "2020-09-28T13:04:21.976963Z",
     "start_time": "2020-09-28T13:04:21.962323Z"
    },
    "nbgrader": {
     "grade": false,
     "grade_id": "cell-50aa86e1b77a72bd",
     "locked": true,
     "schema_version": 3,
     "solution": false
    }
   },
   "outputs": [],
   "source": [
    "class Simulator: # we use a class just to hold variables between calls\n",
    "    def __init__(self):\n",
    "        # initialise accumulators\n",
    "        self.a_sum = 0\n",
    "        self.b_sum = 0\n",
    "        \n",
    "    def update(self, a, b):\n",
    "        # increment\n",
    "        self.a_sum += a\n",
    "        self.b_sum += b\n",
    "        \n",
    "    def results(self):\n",
    "        # return a  pair of results\n",
    "        # (you do not need to change this)\n",
    "        return self.a_sum, self.a_sum - self.b_sum\n",
    "        "
   ]
  },
  {
   "cell_type": "code",
   "execution_count": null,
   "metadata": {
    "ExecuteTime": {
     "end_time": "2020-09-28T13:04:22.996849Z",
     "start_time": "2020-09-28T13:04:21.978916Z"
    },
    "nbgrader": {
     "grade": false,
     "grade_id": "cell-35c606e253a47cef",
     "locked": true,
     "schema_version": 3,
     "solution": false
    }
   },
   "outputs": [],
   "source": [
    "a_error, d_error = simulate(Simulator())\n",
    "# bad result!\n",
    "print(f\"Error in a_sum is {a_error} and {d_error} in d_sum\")"
   ]
  },
  {
   "cell_type": "markdown",
   "metadata": {
    "nbgrader": {
     "grade": false,
     "grade_id": "cell-0f6db2fc517f160b",
     "locked": true,
     "schema_version": 3,
     "solution": false
    }
   },
   "source": [
    "Copy and paste the `Simulator` into the cell below and modify it:"
   ]
  },
  {
   "cell_type": "code",
   "execution_count": 83,
   "metadata": {
    "ExecuteTime": {
     "end_time": "2020-09-28T13:47:24.140666Z",
     "start_time": "2020-09-28T13:47:24.135786Z"
    },
    "nbgrader": {
     "grade": false,
     "grade_id": "cell-25d29ac908333f15",
     "locked": false,
     "schema_version": 3,
     "solution": true
    }
   },
   "outputs": [],
   "source": [
    "class Simulator:\n",
    "    def __init__(self):\n",
    "        self.small_sum_a = 0\n",
    "        self.large_sum_a = 0\n",
    "        self.sum_d = 0\n",
    "        \n",
    "                        \n",
    "    def update(self, a, b):        \n",
    "        if a>100: # various thresholds will work\n",
    "            self.large_sum_a += a            \n",
    "        else:\n",
    "            self.small_sum_a += a\n",
    "        self.sum_d += (a-b)\n",
    "        \n",
    "    def results(self):\n",
    "        return self.large_sum_a+self.small_sum_a, self.sum_d\n",
    "    "
   ]
  },
  {
   "cell_type": "code",
   "execution_count": 84,
   "metadata": {
    "ExecuteTime": {
     "end_time": "2020-09-28T13:47:25.417069Z",
     "start_time": "2020-09-28T13:47:24.330147Z"
    },
    "nbgrader": {
     "grade": false,
     "grade_id": "cell-3cb0d8f80031eb15",
     "locked": true,
     "schema_version": 3,
     "solution": false
    }
   },
   "outputs": [
    {
     "name": "stdout",
     "output_type": "stream",
     "text": [
      "Error in a_sum is 0.265625 and 0.0 in d_sum\n"
     ]
    }
   ],
   "source": [
    "    \n",
    "a_error, d_error = simulate(Simulator())\n",
    "print(f\"Error in a_sum is {a_error} and {d_error} in d_sum\")"
   ]
  },
  {
   "cell_type": "code",
   "execution_count": 78,
   "metadata": {
    "ExecuteTime": {
     "end_time": "2020-09-28T13:47:17.978596Z",
     "start_time": "2020-09-28T13:47:17.970283Z"
    },
    "nbgrader": {
     "grade": true,
     "grade_id": "cell-2b4d36e72bbc2189",
     "locked": true,
     "points": 2,
     "schema_version": 3,
     "solution": false
    }
   },
   "outputs": [
    {
     "data": {
      "text/html": [
       "\n",
       "        <div class=\"alert alert-box alert-success\">\n",
       "        <h1> <!--{id:\"CORRECTMARK\", marks:\"2\"}--> \n",
       "         ✓ [2 marks] \n",
       "         </h1> </div>"
      ],
      "text/plain": [
       "<IPython.core.display.HTML object>"
      ]
     },
     "metadata": {},
     "output_type": "display_data"
    }
   ],
   "source": [
    "with tick.marks(2):\n",
    "    assert(a_error<2.0)"
   ]
  },
  {
   "cell_type": "code",
   "execution_count": 79,
   "metadata": {
    "ExecuteTime": {
     "end_time": "2020-09-28T13:47:19.730204Z",
     "start_time": "2020-09-28T13:47:19.725325Z"
    },
    "nbgrader": {
     "grade": true,
     "grade_id": "cell-1fd742ccc66cbe18",
     "locked": true,
     "points": 2,
     "schema_version": 3,
     "solution": false
    }
   },
   "outputs": [
    {
     "data": {
      "text/html": [
       "\n",
       "        <div class=\"alert alert-box alert-success\">\n",
       "        <h1> <!--{id:\"CORRECTMARK\", marks:\"2\"}--> \n",
       "         ✓ [2 marks] \n",
       "         </h1> </div>"
      ],
      "text/plain": [
       "<IPython.core.display.HTML object>"
      ]
     },
     "metadata": {},
     "output_type": "display_data"
    }
   ],
   "source": [
    "with tick.marks(2):\n",
    "    assert(a_error<0.5)"
   ]
  },
  {
   "cell_type": "code",
   "execution_count": 80,
   "metadata": {
    "ExecuteTime": {
     "end_time": "2020-09-28T13:47:20.083129Z",
     "start_time": "2020-09-28T13:47:20.079224Z"
    },
    "nbgrader": {
     "grade": true,
     "grade_id": "cell-d9f1430e6e4477b5",
     "locked": true,
     "points": 2,
     "schema_version": 3,
     "solution": false
    }
   },
   "outputs": [
    {
     "data": {
      "text/html": [
       "\n",
       "        <div class=\"alert alert-box alert-success\">\n",
       "        <h1> <!--{id:\"CORRECTMARK\", marks:\"2\"}--> \n",
       "         ✓ [2 marks] \n",
       "         </h1> </div>"
      ],
      "text/plain": [
       "<IPython.core.display.HTML object>"
      ]
     },
     "metadata": {},
     "output_type": "display_data"
    }
   ],
   "source": [
    "with tick.marks(2):\n",
    "    assert(d_error<1e-10)"
   ]
  },
  {
   "cell_type": "code",
   "execution_count": 81,
   "metadata": {
    "ExecuteTime": {
     "end_time": "2020-09-28T13:47:20.381894Z",
     "start_time": "2020-09-28T13:47:20.377991Z"
    },
    "nbgrader": {
     "grade": true,
     "grade_id": "cell-333705048f84aa8e",
     "locked": true,
     "points": 2,
     "schema_version": 3,
     "solution": false
    }
   },
   "outputs": [
    {
     "data": {
      "text/html": [
       "\n",
       "        <div class=\"alert alert-box alert-success\">\n",
       "        <h1> <!--{id:\"CORRECTMARK\", marks:\"2\"}--> \n",
       "         ✓ [2 marks] \n",
       "         </h1> </div>"
      ],
      "text/plain": [
       "<IPython.core.display.HTML object>"
      ]
     },
     "metadata": {},
     "output_type": "display_data"
    }
   ],
   "source": [
    "with tick.marks(2):\n",
    "    assert(d_error<1e-12)"
   ]
  },
  {
   "cell_type": "markdown",
   "metadata": {
    "nbgrader": {
     "grade": false,
     "grade_id": "cell-e88d85163a2f6996",
     "locked": true,
     "schema_version": 3,
     "solution": false
    }
   },
   "source": [
    "# 2. Debugging the dump [1 hour]\n",
    "\n",
    "Scenario: In your first day in a new post in the IT team in a finance company, you are provided with the a portion of a memory dump of a process that was running an important simulation of foreign exchange rates in the late 1990s. Unfortunately, the system crashed half way through and the raw memory dump is all that is left. You need to extract the relevant data so that the simulation can be restarted. \n",
    "\n",
    "You know the data is stored as a numerical array, so it has some known structure. You don't know the dtype or shape of the array, or where it starts or ends in the memory dump, however.\n",
    "\n",
    "**This is a puzzle which will require careful thinking, but very little code to be written**"
   ]
  },
  {
   "cell_type": "code",
   "execution_count": 1,
   "metadata": {
    "ExecuteTime": {
     "end_time": "2020-09-28T13:04:24.208743Z",
     "start_time": "2020-09-28T13:04:24.195079Z"
    },
    "nbgrader": {
     "grade": false,
     "grade_id": "cell-a8a2afe4520c1692",
     "locked": true,
     "schema_version": 3,
     "solution": false
    }
   },
   "outputs": [],
   "source": [
    "# read the data in\n",
    "with open(\"data/crash_bytes.dump\", \"rb\")  as f:\n",
    "    crash_dump = f.read()"
   ]
  },
  {
   "cell_type": "code",
   "execution_count": 2,
   "metadata": {
    "ExecuteTime": {
     "end_time": "2020-09-28T13:04:24.233143Z",
     "start_time": "2020-09-28T13:04:24.209798Z"
    },
    "nbgrader": {
     "grade": false,
     "grade_id": "cell-509c272084457406",
     "locked": true,
     "schema_version": 3,
     "solution": false
    }
   },
   "outputs": [
    {
     "name": "stdout",
     "output_type": "stream",
     "text": [
      "58 00 00 18 44  00 D7 45 35 00  45 A7 03 3B 9E  64 2B 31 59 66\n",
      "06 00 00 80 3F  00 00 A6 42 FC  49 6A 43 9A 99  6B 43 00 00 1F\n",
      "43 4C 37 D7 42  56 C4 11 41 00  00 00 40 00 00  B1 42 87 B6 81\n",
      "43 00 80 68 43  9A 99 11 43 96  43 D9 42 E4 84  16 41 00 00 40\n",
      "40 66 66 B0 42  E9 06 81 43 9A  19 B8 43 9A 99  21 43 C7 8B DB\n",
      "42 86 43 16 41  00 00 80 40 00  00 B3 42 AC 4C  8E 43 CD 8C A7\n",
      "43 00 00 25 43  A6 DB DD 42 FA  5D 17 41 00 00  A0 40 66 66 C0\n",
      "42 CD 7C A4 43  66 E6 51 43 33  F3 9A 43 66 26  E0 42 39 EE 1C\n",
      "41 00 00 C0 40  33 33 C4 42 DF  7F AD 43 33 33  41 43 33 B3 B3\n",
      "43 3D 8A E2 42  04 79 1E 41 00  00 E0 40 00 00  C6 42 48 B1 B6\n",
      "43 00 00 3B 43  9A 59 B1 43 21  30 E6 42 AF 32  1F 41 00 00 00\n",
      "41 00 00 C8 42  56 8E B5 43 66  E6 B2 43 00 80  A7 43 21 70 E8\n",
      "42 00 00 20 41  00 00 10 41 66  66 CA 42 08 BC  C6 43 33 33 91\n",
      "43 66 66 98 43  A8 C6 EA 42 07  F5 20 41 00 00  20 41 33 33 D1\n",
      "42 0A 97 D1 43  9A 19 8D 43 9A  D9 8E 43 CF 77  ED 42 7D A3 23\n",
      "41 70 A1 B6 43  00 9A E4 23 F4  00 00 00 00 E8  98 D9 00 2A 00\n",
      "F6 E0 E2 00 FE  96 58 00 A7 9C  9E 00 E1 ED 00  96 46 B6 9F 00\n",
      "D5 04 00 63 83  00 DB EC 1A E9  1E FD 96 F6 60  00 78 00 88 9D\n",
      "16 7D 00 6B EB  00 5E 3A 00 CB  13 00 79 00 AE  18 27 5A 04 6B\n",
      "00 86 25 00 00  00 9E 00 00 00  0C 53 00 93 04  F8 00 0B DE 00\n"
     ]
    }
   ],
   "source": [
    "# the raw memory dump, in hex. This isn't too useful...\n",
    "# but align, group, offset might be helpful to tweak...\n",
    "def print_hex(x, align=20, group=5, offset=0):\n",
    "    for i, byte in enumerate(x[offset:]):                \n",
    "        print(\"%02X\" % byte, end=\"\\n\" if i%align==align-1 else \"  \" if i%group==group-1 else \" \")            \n",
    "    \n",
    "print_hex(crash_dump)"
   ]
  },
  {
   "cell_type": "markdown",
   "metadata": {
    "nbgrader": {
     "grade": false,
     "grade_id": "cell-70d474acad76e3d9",
     "locked": true,
     "schema_version": 3,
     "solution": false
    }
   },
   "source": [
    "### What you know\n",
    "All you have is the block of raw data you can see above.  You know the array is in there, but not exactly where it starts or stops.  The header information is gone, so there is no striding information/dope vector to go by.\n",
    "\n",
    "* You know that the first column of the array is an increasing index, starting at 1.0\n",
    "\n",
    "         a        b      c    ...\n",
    "         1.0     ... \n",
    "         2.0     \n",
    "         3.0     \n",
    "         4.0     \n",
    "              \n",
    "* You also know that all values are finite are smaller than 100 billion\n",
    "* All values in the array are known to be positive.\n",
    "* You can assume the data is some form of IEEE 754, though you do not know what specific type.\n",
    "* The data starts on a byte boundary.\n",
    "\n",
    "**This is sufficient information to solve the whole puzzle**"
   ]
  },
  {
   "cell_type": "markdown",
   "metadata": {
    "nbgrader": {
     "grade": false,
     "grade_id": "cell-bd15883bf21d89b9",
     "locked": true,
     "schema_version": 3,
     "solution": false
    }
   },
   "source": [
    "### Task\n",
    "Recover the data, formatted correctly, and store it in the variable `recovered_array`. \n",
    "\n",
    "* This will take some trial and error (although there *is* a relatively fast way to do it).\n",
    "      "
   ]
  },
  {
   "cell_type": "markdown",
   "metadata": {
    "nbgrader": {
     "grade": false,
     "grade_id": "cell-bb12e3dfddfe2c23",
     "locked": true,
     "schema_version": 3,
     "solution": false
    }
   },
   "source": [
    "* You can convert the data to a NumPy array like this:\n",
    "`np.frombuffer(bytes, dtype, count, offset)`\n",
    "* `bytes` the data to decode, as raw bytes\n",
    "* `dtype` the datatype of the data to decode\n",
    "* `count` the number of **elements** in the array\n",
    "* `offset` **in bytes** to start recovering data\n",
    "    "
   ]
  },
  {
   "cell_type": "code",
   "execution_count": 5,
   "metadata": {
    "ExecuteTime": {
     "end_time": "2020-09-28T13:04:24.242904Z",
     "start_time": "2020-09-28T13:04:24.235099Z"
    }
   },
   "outputs": [
    {
     "data": {
      "text/plain": [
       "array([[ 2.84739072e+028,  4.78523377e+176, -1.35803454e-313],\n",
       "       [ 1.01839522e+204,  2.27625131e-159,  4.39540807e-223],\n",
       "       [-1.13202897e-072,  2.33611998e+195, -1.01156855e+122],\n",
       "       [ 2.00012415e+000, -1.04405103e-303,  8.00914442e-147],\n",
       "       [ 1.99274574e-201, -4.86202974e-063, -3.56920527e-118],\n",
       "       [-1.34866669e+144, -1.49176074e-154, -6.34017948e-133]])"
      ]
     },
     "execution_count": 5,
     "metadata": {},
     "output_type": "execute_result"
    }
   ],
   "source": [
    "# A wrong example:\n",
    "# try and read 18 words from offset 0\n",
    "# reshape to a 6,3 array\n",
    "# this clearly isn't right, as you will see\n",
    "np.frombuffer(crash_dump, dtype=np.float64, count=18, offset=0).reshape(6,3)"
   ]
  },
  {
   "cell_type": "markdown",
   "metadata": {
    "nbgrader": {
     "grade": false,
     "grade_id": "cell-68ce5b4ae1bdde88",
     "locked": true,
     "schema_version": 3,
     "solution": false,
     "task": false
    }
   },
   "source": [
    "* A hint: you can show how any NumPy memory will appear in memory in hex using `tobytes()` -- see the example below. Also, remember you need to infer the *shape* of the array."
   ]
  },
  {
   "cell_type": "code",
   "execution_count": 6,
   "metadata": {
    "ExecuteTime": {
     "end_time": "2020-09-28T13:04:24.261447Z",
     "start_time": "2020-09-28T13:04:24.243880Z"
    }
   },
   "outputs": [
    {
     "name": "stdout",
     "output_type": "stream",
     "text": [
      "00 00 00 00 00  00 F0 3F 00 00  00 00 00 00 00  40 00 00 00 00\n",
      "00 00 08 40 00  00 00 00 00 00  10 40 00 00 00  00 00 00 00 00\n",
      "00 00 00 00 00  00 00 00 "
     ]
    }
   ],
   "source": [
    "# create a simple array, and then get the raw bytes and print them\n",
    "print_hex(np.array([[1.0, 2.0, 3.0], \n",
    "                    [4.0, 0.0, 0.0]], dtype=np.float64).tobytes())"
   ]
  },
  {
   "cell_type": "code",
   "execution_count": 7,
   "metadata": {
    "ExecuteTime": {
     "end_time": "2020-09-28T13:04:24.278040Z",
     "start_time": "2020-09-28T13:04:24.262424Z"
    },
    "nbgrader": {
     "grade": false,
     "grade_id": "cell-0052fe4f66d7ebdc",
     "locked": false,
     "schema_version": 3,
     "solution": true
    }
   },
   "outputs": [
    {
     "name": "stdout",
     "output_type": "stream",
     "text": [
      "[[  1.    83.   234.29 235.6  159.   107.61   9.11]\n",
      " [  2.    88.5  259.43 232.5  145.6  108.63   9.41]\n",
      " [  3.    88.2  258.05 368.2  161.6  109.77   9.39]\n",
      " [  4.    89.5  284.6  335.1  165.   110.93   9.46]\n",
      " [  5.    96.2  328.98 209.9  309.9  112.07   9.81]\n",
      " [  6.    98.1  347.   193.2  359.4  113.27   9.9 ]\n",
      " [  7.    99.   365.39 187.   354.7  115.09   9.95]\n",
      " [  8.   100.   363.11 357.8  335.   116.22  10.  ]\n",
      " [  9.   101.2  397.47 290.4  304.8  117.39  10.06]\n",
      " [ 10.   104.6  419.18 282.2  285.7  118.73  10.23]]\n",
      "(28, 4)\n"
     ]
    }
   ],
   "source": [
    "# This will print out the result\n",
    "# The answer is the data is at\n",
    "# byte offset 72,\n",
    "# is np.float64\n",
    "# and is shape (18,4)\n",
    "# It is important that students figure this out for themselves!\n",
    "np.set_printoptions(precision=2, suppress=True)\n",
    "recovered_array = np.frombuffer(crash_dump, dtype=np.float32, count=70, offset=21).reshape(10,7)\n",
    "print(recovered_array)\n",
    "print(recovered_array.strides)"
   ]
  },
  {
   "cell_type": "code",
   "execution_count": 8,
   "metadata": {
    "ExecuteTime": {
     "end_time": "2020-09-28T13:04:24.296115Z",
     "start_time": "2020-09-28T13:04:24.279092Z"
    },
    "nbgrader": {
     "grade": true,
     "grade_id": "cell-9ac5af2bda4cd2ed",
     "locked": true,
     "points": 5,
     "schema_version": 3,
     "solution": false
    }
   },
   "outputs": [
    {
     "data": {
      "text/html": [
       "\n",
       "        <div class=\"alert alert-box alert-success\">\n",
       "        <h1> <!--{id:\"CORRECTMARK\", marks:\"5\"}--> \n",
       "         ✓ [5 marks] \n",
       "         </h1> </div>"
      ],
      "text/plain": [
       "<IPython.core.display.HTML object>"
      ]
     },
     "metadata": {},
     "output_type": "display_data"
    }
   ],
   "source": [
    "# test the shape\n",
    "with tick.marks(5):        \n",
    "    assert(check_hash(recovered_array.shape, ((2,), 59.5)))"
   ]
  },
  {
   "cell_type": "code",
   "execution_count": 9,
   "metadata": {
    "ExecuteTime": {
     "end_time": "2020-09-28T13:04:24.312707Z",
     "start_time": "2020-09-28T13:04:24.297092Z"
    },
    "nbgrader": {
     "grade": true,
     "grade_id": "cell-926515ccd575cbf4",
     "locked": true,
     "points": 8,
     "schema_version": 3,
     "solution": false
    }
   },
   "outputs": [
    {
     "data": {
      "text/html": [
       "\n",
       "        <div class=\"alert alert-box alert-success\">\n",
       "        <h1> <!--{id:\"CORRECTMARK\", marks:\"8\"}--> \n",
       "         ✓ [8 marks] \n",
       "         </h1> </div>"
      ],
      "text/plain": [
       "<IPython.core.display.HTML object>"
      ]
     },
     "metadata": {},
     "output_type": "display_data"
    }
   ],
   "source": [
    "# test if the result is correct   \n",
    "with tick.marks(8):        \n",
    "    assert(np.allclose(array_hash(recovered_array)[1], 411436.8382024765, atol=1e-2, rtol=1e-2))"
   ]
  },
  {
   "cell_type": "markdown",
   "metadata": {
    "nbgrader": {
     "grade": false,
     "grade_id": "cell-0e8cf17bfe87e8ff",
     "locked": true,
     "schema_version": 3,
     "solution": false
    }
   },
   "source": [
    "# 3. Working with tensors [1 hour]\n",
    "The file `data/font_sheet.png` contains a number of characters in different fonts. It is an image which consists of the images of each *printable* ASCII character, (characters 32-128) arranged left to right. Each character image is precisely square. \n",
    "\n",
    "These are the characters present, in order:"
   ]
  },
  {
   "cell_type": "code",
   "execution_count": null,
   "metadata": {
    "ExecuteTime": {
     "end_time": "2020-09-28T13:04:24.329299Z",
     "start_time": "2020-09-28T13:04:24.313683Z"
    }
   },
   "outputs": [],
   "source": [
    "chars = \"\".join([chr(i) for i in range(32,128)])\n",
    "print(chars)"
   ]
  },
  {
   "cell_type": "markdown",
   "metadata": {
    "nbgrader": {
     "grade": false,
     "grade_id": "cell-9e3426b2a10d4afc",
     "locked": true,
     "schema_version": 3,
     "solution": false
    }
   },
   "source": [
    "  \n",
    "Each font is also stacked left to right, so the image is one *very* long strip of characters. The image is grayscale."
   ]
  },
  {
   "cell_type": "code",
   "execution_count": null,
   "metadata": {
    "ExecuteTime": {
     "end_time": "2020-09-28T13:04:24.970819Z",
     "start_time": "2020-09-28T13:04:24.334179Z"
    }
   },
   "outputs": [],
   "source": [
    "all_fonts = ia.load_image_gray(\"data/font_sheet.png\")\n",
    "print(all_fonts.shape)"
   ]
  },
  {
   "cell_type": "code",
   "execution_count": null,
   "metadata": {
    "ExecuteTime": {
     "end_time": "2020-09-28T13:04:24.981085Z",
     "start_time": "2020-09-28T13:04:24.972771Z"
    }
   },
   "outputs": [],
   "source": [
    "# show a portion of the image\n",
    "ia.show_image(all_fonts[64:128, 1024:2048])"
   ]
  },
  {
   "cell_type": "markdown",
   "metadata": {
    "nbgrader": {
     "grade": false,
     "grade_id": "cell-b8d67310b0668f38",
     "locked": true,
     "schema_version": 3,
     "solution": false
    }
   },
   "source": [
    "# Tasks\n",
    "A. Rearrange the image into a tensor called `font_sheet` that is ordered like this:\n",
    "\n",
    "        (font, character, rows, cols)\n",
    "        \n",
    "* Showing the image `font_sheet[16, 33, :, :]` should show the \"A\" character of the 17th font.\n",
    "* Showing the image `font_sheet[10, 1, :, :]` should be the \"!\" character of the 11th font."
   ]
  },
  {
   "cell_type": "code",
   "execution_count": null,
   "metadata": {
    "ExecuteTime": {
     "end_time": "2020-09-28T13:04:24.995726Z",
     "start_time": "2020-09-28T13:04:24.982062Z"
    }
   },
   "outputs": [],
   "source": [
    "## hint\n",
    "from jhwutils.matrices import show_boxed_tensor_latex\n",
    "n = np.arange(36).reshape(2*3, 3*2)\n",
    "show_boxed_tensor_latex(n, box_rows=False)\n",
    "show_boxed_tensor_latex(n.reshape(2,3,2,3), box_rows=False)"
   ]
  },
  {
   "cell_type": "code",
   "execution_count": null,
   "metadata": {
    "ExecuteTime": {
     "end_time": "2020-09-28T13:04:25.011341Z",
     "start_time": "2020-09-28T13:04:24.996701Z"
    },
    "nbgrader": {
     "grade": false,
     "grade_id": "cell-66e3a2fcbe9e7e36",
     "locked": false,
     "schema_version": 3,
     "solution": true
    }
   },
   "outputs": [],
   "source": [
    "n_chars = len(chars)\n",
    "\n",
    "# we know characters are square, so must be 64 chars wide\n",
    "# note that we *have* to transpose the sheet first before reshaping\n",
    "# this is because of the \"pouring rule\" for reshaping\n",
    "print(all_fonts.shape)\n",
    "font_sheet = all_fonts.reshape(-1, 64, n_chars, 64) \n",
    "font_sheet = np.einsum(\"ijkl->ikjl\", font_sheet)\n",
    "print(font_sheet.shape)\n"
   ]
  },
  {
   "cell_type": "code",
   "execution_count": null,
   "metadata": {
    "ExecuteTime": {
     "end_time": "2020-09-28T13:04:25.116749Z",
     "start_time": "2020-09-28T13:04:25.012318Z"
    }
   },
   "outputs": [],
   "source": [
    "# if your code worked, you should see an ! below\n",
    "ia.show_image_mpl(font_sheet[10, 1, :, :])"
   ]
  },
  {
   "cell_type": "code",
   "execution_count": null,
   "metadata": {
    "ExecuteTime": {
     "end_time": "2020-09-28T13:04:25.129437Z",
     "start_time": "2020-09-28T13:04:25.117726Z"
    }
   },
   "outputs": [],
   "source": [
    "# if your code worked, you should see a gif of letters below\n",
    "ia.show_gif(font_sheet[8, 33:33+26, :, :], width=\"20%\")\n"
   ]
  },
  {
   "cell_type": "code",
   "execution_count": null,
   "metadata": {
    "ExecuteTime": {
     "end_time": "2020-09-28T13:06:16.969428Z",
     "start_time": "2020-09-28T13:06:16.964038Z"
    },
    "nbgrader": {
     "grade": true,
     "grade_id": "cell-e21fcd41d335d470",
     "locked": true,
     "points": 6,
     "schema_version": 3,
     "solution": false
    }
   },
   "outputs": [],
   "source": [
    "# test shape is correct\n",
    "with tick.marks(6):        \n",
    "    assert(check_hash(font_sheet.shape, ((4,), 944.9499472573252)))"
   ]
  },
  {
   "cell_type": "code",
   "execution_count": null,
   "metadata": {
    "ExecuteTime": {
     "end_time": "2020-09-28T13:06:19.106193Z",
     "start_time": "2020-09-28T13:06:18.453183Z"
    },
    "nbgrader": {
     "grade": true,
     "grade_id": "cell-b26945a0ff9f8ded",
     "locked": true,
     "points": 10,
     "schema_version": 3,
     "solution": false
    }
   },
   "outputs": [],
   "source": [
    "# test content is ok\n",
    "with tick.marks(10):    \n",
    "    assert(np.allclose(array_hash(font_sheet)[1], 55441039333148.88, atol=1e-2, rtol=1e-2))    "
   ]
  },
  {
   "cell_type": "markdown",
   "metadata": {
    "nbgrader": {
     "grade": false,
     "grade_id": "cell-c660c03ac76fe59b",
     "locked": true,
     "schema_version": 3,
     "solution": false
    }
   },
   "source": [
    "B. Create an array `letter_sample`, which will be a 2D image containing one letter from each of the letters in the lowercase alphabet, with each character in a different font. The results should show \"a\" in font 0, \"b\" in font 1, \"c\" in font 2 and so on, as a single continuous strip.\n",
    "\n",
    "The letters should be arranged horizontally and contiguously in a strip in the output image:\n",
    "\n",
    "       abcdefghijklmnopqrstuvwxyz\n",
    "\n",
    "\n",
    "Hint:\n",
    "* you will have to partially *undo* some of the swapping/reshaping you did earlier to get the data in the right format\n",
    "* you need to use fancy indexing\n",
    "* you'll need to slice -- work out how to slice the array correctly\n",
    "* do not use a loop"
   ]
  },
  {
   "cell_type": "code",
   "execution_count": null,
   "metadata": {
    "ExecuteTime": {
     "end_time": "2020-09-28T13:06:23.898578Z",
     "start_time": "2020-09-28T13:06:23.893699Z"
    },
    "nbgrader": {
     "grade": false,
     "grade_id": "cell-885aa32f73499743",
     "locked": false,
     "schema_version": 3,
     "solution": true
    }
   },
   "outputs": [],
   "source": [
    "\n",
    "\n",
    "lowercase_letters = chars.find('a'), chars.find('z')+1\n",
    "fonts = np.arange(26)\n",
    "letter_sample = font_sheet[:, lowercase_letters[0]:lowercase_letters[1], :, :]\n",
    "letter_sample = letter_sample[fonts, fonts]\n",
    "letter_sample = letter_sample.swapaxes(0,1).reshape(64, -1)\n"
   ]
  },
  {
   "cell_type": "code",
   "execution_count": null,
   "metadata": {
    "ExecuteTime": {
     "end_time": "2020-09-28T13:06:37.581435Z",
     "start_time": "2020-09-28T13:06:37.575067Z"
    }
   },
   "outputs": [],
   "source": [
    "# each character should appear in a different font\n",
    "ia.show_image(letter_sample)"
   ]
  },
  {
   "cell_type": "code",
   "execution_count": null,
   "metadata": {
    "ExecuteTime": {
     "end_time": "2020-09-28T13:06:52.917486Z",
     "start_time": "2020-09-28T13:06:52.909764Z"
    },
    "nbgrader": {
     "grade": true,
     "grade_id": "cell-70f65b6bc9676a93",
     "locked": true,
     "points": 8,
     "schema_version": 3,
     "solution": false
    }
   },
   "outputs": [],
   "source": [
    "\n",
    "with tick.marks(8):\n",
    "    assert(check_hash(letter_sample,((64, 1664), 4815084617.957046)))"
   ]
  },
  {
   "cell_type": "markdown",
   "metadata": {
    "nbgrader": {
     "grade": false,
     "grade_id": "cell-36342921a0efbd7d",
     "locked": true,
     "schema_version": 3,
     "solution": false
    }
   },
   "source": [
    "C. Compute the average representation of the letter \"x\" by taking the 64x64 mean image of the letter `x` across all fonts and store it in `average_x`.\n",
    "\n",
    "        "
   ]
  },
  {
   "cell_type": "code",
   "execution_count": null,
   "metadata": {
    "ExecuteTime": {
     "end_time": "2020-09-28T13:06:54.695013Z",
     "start_time": "2020-09-28T13:06:54.691110Z"
    },
    "nbgrader": {
     "grade": false,
     "grade_id": "cell-e9b55239e54bd3d9",
     "locked": false,
     "schema_version": 3,
     "solution": true
    }
   },
   "outputs": [],
   "source": [
    "average_x = np.mean(font_sheet[:, lowercase_letters[0]+23, :, :], axis=0)\n"
   ]
  },
  {
   "cell_type": "code",
   "execution_count": null,
   "metadata": {
    "ExecuteTime": {
     "end_time": "2020-09-28T13:06:56.550295Z",
     "start_time": "2020-09-28T13:06:56.462926Z"
    }
   },
   "outputs": [],
   "source": [
    "# show the result -- should be a 64x64 image\n",
    "ia.show_image_mpl(average_x)"
   ]
  },
  {
   "cell_type": "code",
   "execution_count": null,
   "metadata": {
    "ExecuteTime": {
     "end_time": "2020-09-28T13:06:57.743810Z",
     "start_time": "2020-09-28T13:06:57.737955Z"
    },
    "nbgrader": {
     "grade": true,
     "grade_id": "cell-23945e7b1798eac2",
     "locked": true,
     "points": 5,
     "schema_version": 3,
     "solution": false
    }
   },
   "outputs": [],
   "source": [
    "with tick.marks(5):    \n",
    "    assert(check_hash(average_x, ((64, 64), 7278599.401423973)))"
   ]
  },
  {
   "cell_type": "markdown",
   "metadata": {},
   "source": [
    "# End of assessed portion\n",
    "\n",
    "----------------------------------\n",
    "\n",
    "## Extended material\n",
    "\n",
    "<font color=\"red\"> Material beyond this point is optional. You do not have to attempt it or look at it. There are no marks. \n",
    "</font>"
   ]
  },
  {
   "cell_type": "markdown",
   "metadata": {},
   "source": [
    "## Rendering fonts\n",
    "Complete the function below. It should render text using the provided font index, and *return* a single array with the text rendered in a horizontal strip. It should use `font_sheet` that you defined earlier. You can assume equal spacing of letters. \n",
    "\n",
    "* You can compute the index of the character in the same units as the font sheet using the formula:\n",
    "\n",
    "      ix = ord(char) - 32\n",
    "    \n",
    "Every ASCII character (32-127) should be rendered. Any character that could not be rendered should be rendered as a **blank white** square.    \n",
    "\n",
    "* It is fine to use a `for` loop to solve this problem"
   ]
  },
  {
   "cell_type": "code",
   "execution_count": null,
   "metadata": {
    "ExecuteTime": {
     "end_time": "2020-09-28T13:08:05.469366Z",
     "start_time": "2020-09-28T13:08:05.463510Z"
    },
    "nbgrader": {
     "grade": false,
     "grade_id": "cell-5ae83dcf83f39b03",
     "locked": false,
     "schema_version": 3,
     "solution": true
    }
   },
   "outputs": [],
   "source": [
    "def render_text(string, font_index):\n",
    "    \"\"\"Returns an image with the given string rendered, using the font_index selected.\n",
    "    Reads characters from font_sheet.\n",
    "    string: String to be rendered.\n",
    "    font_index: index of the font to use\"\"\"\n",
    "    pass # you can delete this line\n",
    "    glyphs = []\n",
    "    for char in string:\n",
    "        index = ord(char) - 32\n",
    "        if index>=0 and index<96:\n",
    "            glyph = font_sheet[font_index, index, :, :]\n",
    "        else:\n",
    "            glyph = np.ones((64,64)) # blank character\n",
    "        glyphs.append(glyph)\n",
    "    return np.concatenate(glyphs, axis=1)\n"
   ]
  },
  {
   "cell_type": "code",
   "execution_count": null,
   "metadata": {
    "ExecuteTime": {
     "end_time": "2020-09-28T13:08:06.470844Z",
     "start_time": "2020-09-28T13:08:06.463036Z"
    }
   },
   "outputs": [],
   "source": [
    "# you should be able to read this\n",
    "ia.show_image(render_text(\"Can you see this clearly?\", 23))"
   ]
  },
  {
   "cell_type": "code",
   "execution_count": null,
   "metadata": {
    "ExecuteTime": {
     "end_time": "2020-09-28T13:08:08.318804Z",
     "start_time": "2020-09-28T13:08:08.310996Z"
    }
   },
   "outputs": [],
   "source": [
    "# this should look the same\n",
    "ia.show_image(render_text(\"Can\\tyou\\nsee\\xf5this\\x00clearly?\", 23))"
   ]
  },
  {
   "cell_type": "code",
   "execution_count": null,
   "metadata": {
    "ExecuteTime": {
     "end_time": "2020-09-28T13:08:09.831236Z",
     "start_time": "2020-09-28T13:08:09.823428Z"
    }
   },
   "outputs": [],
   "source": [
    "ia.show_image(render_text(\"Data Fundamentals (H)\", 1))"
   ]
  },
  {
   "cell_type": "code",
   "execution_count": null,
   "metadata": {
    "ExecuteTime": {
     "end_time": "2020-09-28T13:08:11.338960Z",
     "start_time": "2020-09-28T13:08:11.333104Z"
    },
    "nbgrader": {
     "grade": false,
     "grade_id": "cell-3a50d2f27fc709fc",
     "locked": true,
     "schema_version": 3,
     "solution": false
    }
   },
   "outputs": [],
   "source": [
    "with tick.marks(0):\n",
    "    assert(check_hash(render_text(\"Test 1\", 1), ((64, 384), 269160963.20571893)))"
   ]
  },
  {
   "cell_type": "code",
   "execution_count": null,
   "metadata": {
    "ExecuteTime": {
     "end_time": "2020-09-28T13:08:12.315238Z",
     "start_time": "2020-09-28T13:08:12.309383Z"
    },
    "nbgrader": {
     "grade": false,
     "grade_id": "cell-12523efdd62618b3",
     "locked": true,
     "schema_version": 3,
     "solution": false
    }
   },
   "outputs": [],
   "source": [
    "with tick.marks(0):\n",
    "    assert(check_hash(render_text(\"Test 2\", 2),((64, 384), 282670129.18082076)))"
   ]
  },
  {
   "cell_type": "code",
   "execution_count": null,
   "metadata": {
    "ExecuteTime": {
     "end_time": "2020-09-28T13:08:13.543355Z",
     "start_time": "2020-09-28T13:08:13.537500Z"
    },
    "nbgrader": {
     "grade": false,
     "grade_id": "cell-74c0a0336db2f47e",
     "locked": true,
     "schema_version": 3,
     "solution": false
    }
   },
   "outputs": [],
   "source": [
    "with tick.marks(0):\n",
    "    assert(check_hash(render_text(\"Test\\n3\", 3), ((64, 384), 283057779.18977338)))"
   ]
  },
  {
   "cell_type": "code",
   "execution_count": null,
   "metadata": {
    "ExecuteTime": {
     "end_time": "2020-09-28T13:08:14.168100Z",
     "start_time": "2020-09-28T13:08:14.162242Z"
    },
    "nbgrader": {
     "grade": false,
     "grade_id": "cell-0fd9508a61e6950e",
     "locked": true,
     "schema_version": 3,
     "solution": false
    }
   },
   "outputs": [],
   "source": [
    "with tick.marks(0):\n",
    "    assert(check_hash(render_text(\"\\n\\tTest\\x00\\xff4\", 4), ((64, 576), 657469474.43368447)))"
   ]
  }
 ],
 "metadata": {
  "celltoolbar": "Create Assignment",
  "kernelspec": {
   "display_name": "Python 3",
   "language": "python",
   "name": "python3"
  },
  "language_info": {
   "codemirror_mode": {
    "name": "ipython",
    "version": 3
   },
   "file_extension": ".py",
   "mimetype": "text/x-python",
   "name": "python",
   "nbconvert_exporter": "python",
   "pygments_lexer": "ipython3",
   "version": "3.8.5"
  },
  "toc": {
   "base_numbering": 1,
   "nav_menu": {},
   "number_sections": true,
   "sideBar": true,
   "skip_h1_title": false,
   "title_cell": "Table of Contents",
   "title_sidebar": "Contents",
   "toc_cell": false,
   "toc_position": {},
   "toc_section_display": "block",
   "toc_window_display": false
  },
  "varInspector": {
   "cols": {
    "lenName": 16,
    "lenType": 16,
    "lenVar": 40
   },
   "kernels_config": {
    "python": {
     "delete_cmd_postfix": "",
     "delete_cmd_prefix": "del ",
     "library": "var_list.py",
     "varRefreshCmd": "print(var_dic_list())"
    },
    "r": {
     "delete_cmd_postfix": ") ",
     "delete_cmd_prefix": "rm(",
     "library": "var_list.r",
     "varRefreshCmd": "cat(var_dic_list()) "
    }
   },
   "types_to_exclude": [
    "module",
    "function",
    "builtin_function_or_method",
    "instance",
    "_Feature"
   ],
   "window_display": false
  }
 },
 "nbformat": 4,
 "nbformat_minor": 1
}
