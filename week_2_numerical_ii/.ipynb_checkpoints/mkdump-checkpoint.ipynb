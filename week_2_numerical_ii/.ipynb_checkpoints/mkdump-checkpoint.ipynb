{
 "cells": [
  {
   "cell_type": "code",
   "execution_count": 15,
   "metadata": {},
   "outputs": [
    {
     "name": "stdout",
     "output_type": "stream",
     "text": [
      " !\"#$%&'()*+,-./0123456789:;<=>?@ABCDEFGHIJKLMNOPQRSTUVWXYZ[\\]^_`abcdefghijklmnopqrstuvwxyz{|}~\n"
     ]
    }
   ],
   "source": [
    "chars = \"\".join([chr(i) for i in range(32,128)])\n",
    "print(chars)"
   ]
  },
  {
   "cell_type": "code",
   "execution_count": 16,
   "metadata": {
    "collapsed": true
   },
   "outputs": [],
   "source": [
    "from PIL import Image, ImageDraw, ImageFont"
   ]
  },
  {
   "cell_type": "code",
   "execution_count": 23,
   "metadata": {},
   "outputs": [],
   "source": [
    "import os\n",
    "path = 'c:/temp/bitfont'\n",
    "fonts = []\n",
    "for file in os.listdir(path):\n",
    "    if file.endswith('.ttf'):\n",
    "        fonts.append(os.path.join(path, file))\n",
    "        "
   ]
  },
  {
   "cell_type": "code",
   "execution_count": 26,
   "metadata": {},
   "outputs": [],
   "source": [
    "fonts = fonts[0:8]\n",
    "scale = 4\n",
    "sz = 10\n",
    "txt = Image.new('RGBA', (sz*len(chars)*scale*len(fonts),sz*scale), (255,255,255,255))\n",
    "draw = ImageDraw.Draw(txt)\n",
    "x,y = 0,0\n",
    "for font in fonts:\n",
    "    fnt = ImageFont.truetype(font, 32*scale)\n",
    "    \n",
    "    \n",
    "    for char in chars:\n",
    "        draw.text((x,y), char, font=fnt, fill=(0,0,0,255))\n",
    "        x += sz * scale\n",
    "        \n",
    "txt = txt.resize((sz*len(chars)*len(fonts),sz))\n",
    "txt.save('font_sheet.png')"
   ]
  },
  {
   "cell_type": "code",
   "execution_count": null,
   "metadata": {
    "collapsed": true
   },
   "outputs": [],
   "source": []
  }
 ],
 "metadata": {
  "kernelspec": {
   "display_name": "Python 3",
   "language": "python",
   "name": "python3"
  },
  "language_info": {
   "codemirror_mode": {
    "name": "ipython",
    "version": 3
   },
   "file_extension": ".py",
   "mimetype": "text/x-python",
   "name": "python",
   "nbconvert_exporter": "python",
   "pygments_lexer": "ipython3",
   "version": "3.6.1"
  }
 },
 "nbformat": 4,
 "nbformat_minor": 2
}
