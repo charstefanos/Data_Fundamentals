{
 "cells": [
  {
   "cell_type": "markdown",
   "metadata": {},
   "source": [
    "**Do not attempt to submit this file on Moodle**\n",
    "\n",
    "# Jupyter Quickstart\n",
    "This tutorial very briefly introduces the Jupyter Notebook environment. The most important things to know:\n",
    "\n",
    "* code cells are grey and you can select them by clicking on them\n",
    "* pressing `SHIFT-ENTER` runs the selected cell and moves to the next one.\n",
    "* pressing `CTRL-ENTER` runs the selected cell and stays there.\n",
    "* pressing `TAB` will autocomplete\n",
    "* pressing `SHIFT-TAB` will bring up documentation for any function\n",
    "* `ESC-H` will bring up the full keyboard shortcut list\n",
    "* `CTRL-S` will save the document"
   ]
  },
  {
   "cell_type": "markdown",
   "metadata": {},
   "source": [
    " **Actions for you to do are highlighted in green.** \n",
    "\n",
    "### Cells\n",
    "\n",
    "The notebook is made up of **cells**. A cell is a snippet of code or text. You can break up code into cells as you wish. Each cell with code in it can be run on its own.\n",
    "\n",
    "* Click on a cell to highlight it (you will see a highlight box appear around it)\n",
    "* Press SHIFT-ENTER to run the code (hold SHIFT, then press ENTER).\n",
    "<br><br>\n",
    "\n",
    " **A.1 Try this on the cell below:** \n"
   ]
  },
  {
   "cell_type": "code",
   "execution_count": 4,
   "metadata": {
    "ExecuteTime": {
     "end_time": "2020-09-11T15:25:01.623607Z",
     "start_time": "2020-09-11T15:25:01.619703Z"
    }
   },
   "outputs": [
    {
     "name": "stdout",
     "output_type": "stream",
     "text": [
      "Hello, world\n",
      "This is great\n",
      "4\n"
     ]
    }
   ],
   "source": [
    "print(\"Hello, world\")\n",
    "print(\"This is great\")\n"
   ]
  },
  {
   "cell_type": "markdown",
   "metadata": {},
   "source": [
    "After selecting the cell above and pressing SHIFT-ENTER. you should see:\n",
    "\n",
    "    In [1]: print(\"Hello, world\")\n",
    "    Hello, world\n",
    "\n",
    "The line underneath is the **output** of the code you ran. All the code in the cell is run when you press SHIFT-ENTER. \n",
    "\n",
    "---\n",
    "### Editing\n",
    "You can edit a code cell just by clicking on it, and editing the text. Press SHIFT-ENTER to run it again. \n",
    "\n",
    " **A.2 Edit the code in the cell above to print out a different message, then run it again.**  "
   ]
  },
  {
   "cell_type": "markdown",
   "metadata": {},
   "source": [
    "### Text cells\n",
    "The instructions you are reading are also in cells, but these are **text cells**.\n",
    "If you *double*-click on these text cells you can edit them as well. Press SHIFT-ENTER to \"format\" the cell.\n",
    "\n",
    "The text inside these boxes is [Markdown](http://daringfireball.net/projects/markdown/syntax). \n",
    "\n",
    "Jupyter will also recognise LaTeX formulae if you surround them with dollar symbols \n",
    "`$ x = x + 1 $` $ x = x + 1 $\n",
    "And you can make display equations using double dollar signs:\n",
    "`$$ \\sum_{i=0}^{N} i^{\\alpha_i} + \\beta_i $$` becomes\n",
    "$$ \\sum_{i=0}^{N} i^{\\alpha_i} + \\beta_i $$\n",
    "\n",
    " **A.3 Double-click on this cell. It will turn gray and the font will change. Edit this text to say something different. Then press SHIFT-ENTER to format it.** "
   ]
  },
  {
   "cell_type": "markdown",
   "metadata": {},
   "source": [
    "### Navigation and editing\n",
    "\n",
    "* Editing *inside* cells works like a normal text form on a web page. \n"
   ]
  },
  {
   "cell_type": "markdown",
   "metadata": {},
   "source": [
    "**A.4 Try typing `print(\"Hello Jupyter\")` in the box below, then pressing SHIFT-ENTER to run it.** \n"
   ]
  },
  {
   "cell_type": "code",
   "execution_count": 5,
   "metadata": {
    "ExecuteTime": {
     "end_time": "2020-09-11T15:25:56.096402Z",
     "start_time": "2020-09-11T15:25:56.093474Z"
    }
   },
   "outputs": [
    {
     "name": "stdout",
     "output_type": "stream",
     "text": [
      "Hello Jupyter\n"
     ]
    }
   ],
   "source": [
    "print(\"Hello Jupyter\")\n",
    "print(\"Hey\")"
   ]
  },
  {
   "cell_type": "code",
   "execution_count": 5,
   "metadata": {
    "ExecuteTime": {
     "end_time": "2020-09-11T15:25:56.096402Z",
     "start_time": "2020-09-11T15:25:56.093474Z"
    }
   },
   "outputs": [
    {
     "name": "stdout",
     "output_type": "stream",
     "text": [
      "Hello Jupyter\n"
     ]
    }
   ],
   "source": [
    "print(\"Hello Jupyter\")\n",
    "print(\"Hey\")"
   ]
  },
  {
   "cell_type": "code",
   "execution_count": null,
   "metadata": {},
   "outputs": [],
   "source": []
  },
  {
   "cell_type": "code",
   "execution_count": null,
   "metadata": {},
   "outputs": [],
   "source": []
  },
  {
   "cell_type": "markdown",
   "metadata": {},
   "source": [
    "### Copy and paste\n",
    "* You can cut, copy and paste entire cells using the toolbar or menu, or use `CTRL-X` (cut), `CTRL-C` (copy) and `CTRL-V` (paste). \n",
    "\n",
    " **A.5) Try copying the cell below that says \"copy me!\" and paste it twice below.** "
   ]
  },
  {
   "cell_type": "markdown",
   "metadata": {},
   "source": [
    "## Copy me!"
   ]
  },
  {
   "cell_type": "markdown",
   "metadata": {},
   "source": [
    "### Adding new cells\n",
    "* You can insert new cells (e.g. to write code in) by using `Insert/Cell Above` or `Insert/Cell Below` from the menu. Or use the + button on the toolbar. \n",
    "\n",
    " **A.6 Insert a cell below, and enter `print(\"hello from a new cell\")`** "
   ]
  },
  {
   "cell_type": "markdown",
   "metadata": {},
   "source": [
    "My notes: This is a way to print things out."
   ]
  },
  {
   "cell_type": "code",
   "execution_count": 6,
   "metadata": {
    "ExecuteTime": {
     "end_time": "2020-09-11T15:27:02.273816Z",
     "start_time": "2020-09-11T15:27:02.269912Z"
    }
   },
   "outputs": [
    {
     "name": "stdout",
     "output_type": "stream",
     "text": [
      "Hello from a new cell\n"
     ]
    }
   ],
   "source": [
    "print(\"Hello from a new cell\")"
   ]
  },
  {
   "cell_type": "markdown",
   "metadata": {},
   "source": [
    "----\n",
    "\n",
    "### Adding notes\n",
    "Sometimes you want to add a text cell, to write notes, for example. To do this, add a cell as before, *then* go to the `Cell` menu and select `Cell Type/Markdown` (or press `Ctrl-M)`. To change the cell type back to code, go to `Cell/Cell Type/Code` (or press `Ctrl-Y`).\n",
    "\n",
    "**A.7 Insert a text cell below. Put the text `# Title` in the cell. Press SHIFT-ENTER to \"format\" the text. Notice that when you press SHIFT-ENTER the text will become a title line. This is caused by the leading # symbol. Jupyter uses [markdown](https://github.com/adam-p/markdown-here/wiki/Markdown-Cheatsheet) to format text**"
   ]
  },
  {
   "cell_type": "markdown",
   "metadata": {},
   "source": [
    "### Saving\n",
    "\n",
    "* Remember to **save** regularly! Press `CTRL-S` to save, or use the menu option `File/Save and Checkpoint`\n",
    "\n",
    "### Making copies of notebooks\n",
    "\n",
    "* You can make a copy of your work using `File/Make a Copy` (e.g. if you want to change something but have a \"good\" version to go back to). \n",
    "\n",
    "**A.9 Make a copy of this notebook. You can change the copy's name using the menu option `File/Rename...` Then save.** "
   ]
  },
  {
   "cell_type": "code",
   "execution_count": null,
   "metadata": {},
   "outputs": [],
   "source": []
  },
  {
   "cell_type": "markdown",
   "metadata": {},
   "source": [
    "### Undo\n",
    "\n",
    "* You can undo typing inside cells (`Edit/Undo` or `CTRL-Z`) but be aware that undo works independently inside each cell (i.e. each cell maintains its own undo history).\n"
   ]
  },
  {
   "cell_type": "markdown",
   "metadata": {},
   "source": [
    "-----\n",
    "### Stopping and restarting\n",
    "You can make Python run for a very long time, for example if you create an infinite loop. No other cells can run while we are waiting.\n",
    "\n",
    "If this happens, you will see an asterisk `In [*]` beside the cell that is running. The circle next to `Python 3` at the very top right of the screen will be filled while the process is busy. To stop it,  press the stop button on the toolbar at the top. \n",
    "\n",
    " **A.10 Run the cell below. It will run forever. Look for the asterisk next to the cell, check the circle at the very top right, and then stop the cell. You'll see a `KeyboardInterrupt` exception message. This is correct.** "
   ]
  },
  {
   "cell_type": "code",
   "execution_count": 2,
   "metadata": {
    "ExecuteTime": {
     "end_time": "2020-09-11T15:29:46.876759Z",
     "start_time": "2020-09-11T15:29:43.073344Z"
    }
   },
   "outputs": [
    {
     "ename": "KeyboardInterrupt",
     "evalue": "",
     "output_type": "error",
     "traceback": [
      "\u001b[1;31m---------------------------------------------------------------------------\u001b[0m",
      "\u001b[1;31mKeyboardInterrupt\u001b[0m                         Traceback (most recent call last)",
      "\u001b[1;32m<ipython-input-2-5da5a06fe336>\u001b[0m in \u001b[0;36m<module>\u001b[1;34m\u001b[0m\n\u001b[0;32m      1\u001b[0m \u001b[1;31m# infinite loop\u001b[0m\u001b[1;33m\u001b[0m\u001b[1;33m\u001b[0m\u001b[1;33m\u001b[0m\u001b[0m\n\u001b[0;32m      2\u001b[0m \u001b[1;32mwhile\u001b[0m \u001b[1;36m1\u001b[0m\u001b[1;33m:\u001b[0m\u001b[1;33m\u001b[0m\u001b[1;33m\u001b[0m\u001b[0m\n\u001b[1;32m----> 3\u001b[1;33m     \u001b[1;32mpass\u001b[0m\u001b[1;33m\u001b[0m\u001b[1;33m\u001b[0m\u001b[0m\n\u001b[0m",
      "\u001b[1;31mKeyboardInterrupt\u001b[0m: "
     ]
    }
   ],
   "source": [
    "# infinite loop\n",
    "while 1:\n",
    "    pass"
   ]
  },
  {
   "cell_type": "markdown",
   "metadata": {},
   "source": [
    "### Variables\n",
    "When you run a cell, it changes the Python state. For example if you assign a value to a variable, the next cell you run will know about that value, regardless of where it is in the notebook. \n"
   ]
  },
  {
   "cell_type": "markdown",
   "metadata": {},
   "source": [
    "** A.11 There are two cells below. Run them both. **\n",
    "\n"
   ]
  },
  {
   "cell_type": "code",
   "execution_count": 2,
   "metadata": {
    "ExecuteTime": {
     "end_time": "2020-09-11T15:30:42.411049Z",
     "start_time": "2020-09-11T15:30:42.407145Z"
    }
   },
   "outputs": [],
   "source": [
    "# greeting 1\n",
    "greeting = \"Hello, world\""
   ]
  },
  {
   "cell_type": "code",
   "execution_count": 3,
   "metadata": {
    "ExecuteTime": {
     "end_time": "2020-09-11T15:30:43.944616Z",
     "start_time": "2020-09-11T15:30:43.939736Z"
    }
   },
   "outputs": [
    {
     "name": "stdout",
     "output_type": "stream",
     "text": [
      "Hello, world\n"
     ]
    }
   ],
   "source": [
    "# print greeting\n",
    "# Python remembers the value of greeting from the last run cell.\n",
    "print(greeting)"
   ]
  },
  {
   "cell_type": "markdown",
   "metadata": {},
   "source": [
    " **12) Now run the cell below (`#greeting 2`), then run the `print(greeting)` cell again. Notice that the output changes. Try running the first greeting cell again. ** \n",
    "\n",
    "Python runs each cell when you tell it, and remembers the values you set. The order the cells appear in the notebook isn't important -- it is the order in which you **run** the cells."
   ]
  },
  {
   "cell_type": "code",
   "execution_count": 4,
   "metadata": {
    "ExecuteTime": {
     "end_time": "2020-09-11T15:30:57.000754Z",
     "start_time": "2020-09-11T15:30:56.996850Z"
    }
   },
   "outputs": [],
   "source": [
    "# greeting 2\n",
    "greeting = \"Is this thing on?\""
   ]
  },
  {
   "cell_type": "markdown",
   "metadata": {},
   "source": [
    "## Resetting the interpreter state\n",
    "Occasionally you might want to reset the Python state back to what it was before any code ran -- to forget any variables you have stored. \n",
    "\n",
    "<br> **12) Press the restart button on the toolbar, or go to the menu option `Kernel/Restart`. The contents of the notebook will not change. Now try running the `print(greeting)` cell above. You will get an error, because Python has forgotten the value. Run the `greeting 1` cell and then run the `print(greeting)` cell**. "
   ]
  },
  {
   "cell_type": "markdown",
   "metadata": {},
   "source": [
    "## Autocompleting \n",
    "\n",
    "If you start typing part of a Python name, then press `TAB`, a list of autocompletions will appear. For example, type `g` in the code cell below and then press `TAB`. You should see `greeting` appear in the list. Use the arrow keys to move down to `greeting` and then press `Enter` to complete the name (or just click on it).\n",
    "\n",
    "If you type `gree` and press TAB it will complete without giving you a list, because there is only one completion beginning `gree` currently known to Python."
   ]
  },
  {
   "cell_type": "code",
   "execution_count": 5,
   "metadata": {
    "ExecuteTime": {
     "end_time": "2020-09-11T15:31:40.452422Z",
     "start_time": "2020-09-11T15:31:40.434854Z"
    }
   },
   "outputs": [
    {
     "ename": "TypeError",
     "evalue": "_argsort_dispatcher() missing 1 required positional argument: 'a'",
     "output_type": "error",
     "traceback": [
      "\u001b[1;31m---------------------------------------------------------------------------\u001b[0m",
      "\u001b[1;31mTypeError\u001b[0m                                 Traceback (most recent call last)",
      "\u001b[1;32m<ipython-input-5-8e41a9b70991>\u001b[0m in \u001b[0;36m<module>\u001b[1;34m\u001b[0m\n\u001b[0;32m      1\u001b[0m \u001b[1;32mimport\u001b[0m \u001b[0mnumpy\u001b[0m \u001b[1;32mas\u001b[0m \u001b[0mnp\u001b[0m\u001b[1;33m\u001b[0m\u001b[1;33m\u001b[0m\u001b[0m\n\u001b[1;32m----> 2\u001b[1;33m \u001b[0mnp\u001b[0m\u001b[1;33m.\u001b[0m\u001b[0margsort\u001b[0m\u001b[1;33m(\u001b[0m\u001b[1;33m)\u001b[0m\u001b[1;33m\u001b[0m\u001b[1;33m\u001b[0m\u001b[0m\n\u001b[0m",
      "\u001b[1;32m<__array_function__ internals>\u001b[0m in \u001b[0;36margsort\u001b[1;34m(*args, **kwargs)\u001b[0m\n",
      "\u001b[1;31mTypeError\u001b[0m: _argsort_dispatcher() missing 1 required positional argument: 'a'"
     ]
    }
   ],
   "source": [
    "import numpy as np\n",
    "np.argsort()"
   ]
  },
  {
   "cell_type": "markdown",
   "metadata": {},
   "source": [
    "### Built-in help\n",
    "Trying pressing `Escape-H` (the `Escape` key, then `h`). This will bring up a complete list of keyboard shortcuts for th Jupyter notebook. You won't need most of them, but it can be a handy reference. \n",
    "\n",
    "#### Python help\n",
    "You can also get help on Python commands and functions directly in the notebook. If you click anywhere inside the parentheses in the line below, and then press `SHIFT-TAB`, a little popup will appear with a brief description.\n",
    "\n",
    "If you click the small `^` symbol at the top right of this popup, then a more complete description will be displayed at the bottom of the page. You can close this help window with the `X` at the top right."
   ]
  },
  {
   "cell_type": "code",
   "execution_count": null,
   "metadata": {
    "lines_to_next_cell": 2
   },
   "outputs": [],
   "source": [
    "sum([1,2,3,4])"
   ]
  },
  {
   "cell_type": "markdown",
   "metadata": {},
   "source": [
    "## Inline graphs\n",
    "Jupyter supports inline graph visualisation (actually it supports images, sounds, videos, UI components, 3D visualisations and more; but we'll stick to graphs for now).\n",
    "Let's plot a graph of a sine and cosine wave. We'll look at some of these commands in more detail later in the exercise, but for now, just run them and see what happens."
   ]
  },
  {
   "cell_type": "markdown",
   "metadata": {},
   "source": [
    "We'll use **numpy** to manipulate vectors of values, and **matplotlib** to plot the graph. First we must import them. In future notebooks this will already be done at the start, but we do it explicitly here for clarity."
   ]
  },
  {
   "cell_type": "code",
   "execution_count": 6,
   "metadata": {
    "ExecuteTime": {
     "end_time": "2020-09-11T15:33:28.340501Z",
     "start_time": "2020-09-11T15:33:28.133556Z"
    }
   },
   "outputs": [],
   "source": [
    "import numpy as np # np is the conventional short name for numpy\n",
    "import matplotlib.pyplot as plt # and plt is the conventional name for matplotlib\n",
    "# this enables Jupyter integration\n",
    "%matplotlib inline    "
   ]
  },
  {
   "cell_type": "code",
   "execution_count": 7,
   "metadata": {
    "ExecuteTime": {
     "end_time": "2020-09-11T15:33:32.639226Z",
     "start_time": "2020-09-11T15:33:32.328824Z"
    }
   },
   "outputs": [
    {
     "data": {
      "text/plain": [
       "<matplotlib.legend.Legend at 0x1b280a1e8d0>"
      ]
     },
     "execution_count": 7,
     "metadata": {},
     "output_type": "execute_result"
    },
    {
     "data": {
      "image/png": "[encoded data removed]",
      "text/plain": [
       "<Figure size 432x288 with 1 Axes>"
      ]
     },
     "metadata": {
      "needs_background": "light"
     },
     "output_type": "display_data"
    }
   ],
   "source": [
    "### Generate 500 numbers spaced evenly from -pi to pi\n",
    "x = np.linspace(-np.pi, np.pi, 500)   \n",
    "\n",
    "## Create a new figure and put axes on it (a \"subplot\")\n",
    "fig = plt.figure()\n",
    "ax = fig.add_subplot(1,1,1)\n",
    "\n",
    "## Now plot the function value against the x value\n",
    "ax.plot(x, np.sin(x), label=\"sin(x)\")  \n",
    "ax.plot(x, np.cos(x), label=\"cos(x)\")  \n",
    "\n",
    "## Set the title and axis labels\n",
    "ax.set_title(\"sin(x) and cos(x) over $[-\\pi, \\pi]$\")\n",
    "ax.set_xlabel(\"Argument\")\n",
    "ax.set_ylabel(\"Value\")\n",
    "\n",
    "## Use the labels given in the ax.plot() commands to create a legend\n",
    "ax.legend()"
   ]
  }
 ],
 "metadata": {
  "kernelspec": {
   "display_name": "Python 3",
   "language": "python",
   "name": "python3"
  },
  "language_info": {
   "codemirror_mode": {
    "name": "ipython",
    "version": 3
   },
   "file_extension": ".py",
   "mimetype": "text/x-python",
   "name": "python",
   "nbconvert_exporter": "python",
   "pygments_lexer": "ipython3",
   "version": "3.7.3"
  }
 },
 "nbformat": 4,
 "nbformat_minor": 2
}
